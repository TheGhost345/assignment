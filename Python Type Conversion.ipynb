{
 "cells": [
  {
   "cell_type": "markdown",
   "id": "ee54c4e6-a593-4f11-b61d-c7eb4f5e6cac",
   "metadata": {},
   "source": [
    "1. Convert a integer to a floatig-point number."
   ]
  },
  {
   "cell_type": "code",
   "execution_count": 1,
   "id": "5bb7bc48-29f1-4a71-b9ed-6fee77005686",
   "metadata": {},
   "outputs": [
    {
     "name": "stdout",
     "output_type": "stream",
     "text": [
      "10.0\n"
     ]
    }
   ],
   "source": [
    "a = 10\n",
    "\n",
    "b = float(a)\n",
    "print(b)"
   ]
  },
  {
   "cell_type": "markdown",
   "id": "e8f9209d-929e-4b13-b993-809a5203665b",
   "metadata": {},
   "source": [
    "2. Convert a float to an integer."
   ]
  },
  {
   "cell_type": "code",
   "execution_count": 2,
   "id": "3b4a4c08-4b9a-4563-bd9a-0fe1d500c990",
   "metadata": {},
   "outputs": [
    {
     "name": "stdout",
     "output_type": "stream",
     "text": [
      "12\n"
     ]
    }
   ],
   "source": [
    "b = 12\n",
    "\n",
    "c = int(b)\n",
    "print(c)"
   ]
  },
  {
   "cell_type": "markdown",
   "id": "b04e71c4-dea0-49f0-9b40-1ebe23c40d25",
   "metadata": {},
   "source": [
    "3. Convert an integer to a string."
   ]
  },
  {
   "cell_type": "code",
   "execution_count": 3,
   "id": "8c629f07-ea07-44cf-be95-01c957140f0f",
   "metadata": {},
   "outputs": [
    {
     "name": "stdout",
     "output_type": "stream",
     "text": [
      "20\n"
     ]
    }
   ],
   "source": [
    "a = 20\n",
    "\n",
    "s = str(a)\n",
    "print(s)"
   ]
  },
  {
   "cell_type": "markdown",
   "id": "c699d9f1-e2ba-4b81-9a96-a36219011ae9",
   "metadata": {},
   "source": [
    "4. Covert a list to a tuple."
   ]
  },
  {
   "cell_type": "code",
   "execution_count": 4,
   "id": "33ec463b-0ee1-4c19-b9b5-12dc5db31898",
   "metadata": {},
   "outputs": [
    {
     "name": "stdout",
     "output_type": "stream",
     "text": [
      "('Kanha', 'Padma', 31, 38)\n"
     ]
    }
   ],
   "source": [
    "l = ['Kanha', 'Padma', 31, 38]\n",
    "\n",
    "t = tuple(l)\n",
    "print(t)"
   ]
  },
  {
   "cell_type": "markdown",
   "id": "fe3c605e-5bd8-4221-820c-efef0313d3ac",
   "metadata": {},
   "source": [
    "5. Covert a tuple to a list."
   ]
  },
  {
   "cell_type": "code",
   "execution_count": 5,
   "id": "fe71a5d3-583e-4ca2-b2ea-6064155df0e7",
   "metadata": {},
   "outputs": [
    {
     "name": "stdout",
     "output_type": "stream",
     "text": [
      "['Kanha', 'Padma', 31, 38]\n"
     ]
    }
   ],
   "source": [
    "t = ('Kanha', 'Padma', 31, 38)\n",
    "\n",
    "l = list(l)\n",
    "print(l)"
   ]
  },
  {
   "cell_type": "markdown",
   "id": "5d6d38e6-8663-4149-85d5-a12311707c8d",
   "metadata": {},
   "source": [
    "6. Convert a decimal number to binary."
   ]
  },
  {
   "cell_type": "code",
   "execution_count": 6,
   "id": "bbf3d4fa-45cb-4377-8fbc-44924ed3dbdc",
   "metadata": {},
   "outputs": [
    {
     "name": "stdout",
     "output_type": "stream",
     "text": [
      "1010\n"
     ]
    }
   ],
   "source": [
    "a = 10\n",
    "\n",
    "b = bin(a)[2:]\n",
    "print(b)"
   ]
  },
  {
   "cell_type": "markdown",
   "id": "adb86ffa-aff2-499e-a742-857fe5bbfc0c",
   "metadata": {},
   "source": [
    "7. Convert a non-zero number to boolean."
   ]
  },
  {
   "cell_type": "code",
   "execution_count": 7,
   "id": "3c1ddf1f-9fb6-4543-8679-83db1b08dbdc",
   "metadata": {},
   "outputs": [
    {
     "name": "stdout",
     "output_type": "stream",
     "text": [
      "True\n"
     ]
    }
   ],
   "source": [
    "a = 8\n",
    "\n",
    "b = bool(a)\n",
    "print(b)"
   ]
  },
  {
   "cell_type": "code",
   "execution_count": null,
   "id": "160c5741-bf8d-4544-8f7b-9ea125997e31",
   "metadata": {},
   "outputs": [],
   "source": []
  }
 ],
 "metadata": {
  "kernelspec": {
   "display_name": "Python 3 (ipykernel)",
   "language": "python",
   "name": "python3"
  },
  "language_info": {
   "codemirror_mode": {
    "name": "ipython",
    "version": 3
   },
   "file_extension": ".py",
   "mimetype": "text/x-python",
   "name": "python",
   "nbconvert_exporter": "python",
   "pygments_lexer": "ipython3",
   "version": "3.10.8"
  }
 },
 "nbformat": 4,
 "nbformat_minor": 5
}
